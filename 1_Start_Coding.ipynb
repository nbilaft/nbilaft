{
  "nbformat": 4,
  "nbformat_minor": 0,
  "metadata": {
    "colab": {
      "provenance": [],
      "authorship_tag": "ABX9TyPMIJml11MaIWH2bRo6oVmV",
      "include_colab_link": true
    },
    "kernelspec": {
      "name": "python3",
      "display_name": "Python 3"
    },
    "language_info": {
      "name": "python"
    }
  },
  "cells": [
    {
      "cell_type": "markdown",
      "metadata": {
        "id": "view-in-github",
        "colab_type": "text"
      },
      "source": [
        "<a href=\"https://colab.research.google.com/github/nbilaft/nbilaft/blob/main/1_Start_Coding.ipynb\" target=\"_parent\"><img src=\"https://colab.research.google.com/assets/colab-badge.svg\" alt=\"Open In Colab\"/></a>"
      ]
    },
    {
      "cell_type": "markdown",
      "source": [
        "Mencetak kalimat\n",
        "kita bisa menggunakan  \n",
        "1. print(\" \")\n",
        "2. print(' ')"
      ],
      "metadata": {
        "id": "bHzssH2WndOU"
      }
    },
    {
      "cell_type": "code",
      "source": [
        "print ('hallo world', end=\" \")\n",
        "print ('how are you?')"
      ],
      "metadata": {
        "colab": {
          "base_uri": "https://localhost:8080/"
        },
        "id": "JJifdnIcnpCS",
        "outputId": "d343dc67-3424-4cfb-c1f8-4cba7862c25a"
      },
      "execution_count": null,
      "outputs": [
        {
          "output_type": "stream",
          "name": "stdout",
          "text": [
            "hallo world how are you?\n"
          ]
        }
      ]
    },
    {
      "cell_type": "markdown",
      "source": [
        "untuk menambahkan tanda petik menambahkan \\\"\\\""
      ],
      "metadata": {
        "id": "jlS1dbbMaGfC"
      }
    },
    {
      "cell_type": "code",
      "source": [
        "print ('bukan bermaksud promosi, tapi I\\\"m lovin\\\"it')\n",
        "print (\"kepribadiannya\\\"bagai air di daun talas\\\"\")"
      ],
      "metadata": {
        "id": "6GmsKrzdnrwi",
        "colab": {
          "base_uri": "https://localhost:8080/"
        },
        "outputId": "5b5d4fb9-bca1-406f-fe42-9a52b1e90721"
      },
      "execution_count": null,
      "outputs": [
        {
          "output_type": "stream",
          "name": "stdout",
          "text": [
            "bukan bermaksud promosi, tapi I\"m lovin\"it\n",
            "kepribadiannya\"bagai air di daun talas\"\n"
          ]
        }
      ]
    },
    {
      "cell_type": "markdown",
      "source": [
        "membuat komentar"
      ],
      "metadata": {
        "id": "5t3slUOLE9vl"
      }
    },
    {
      "cell_type": "code",
      "source": [
        "\"\"\" ini buat koment\"\"\"\n",
        "#jadi komen tuh ada 2 cara, ini yg kedua\n",
        "\n",
        "\n",
        "print(\"\"\" contoh puisi pendek:\n",
        "1. keluhan -mustofa.\n",
        "2. \"hari ibu\" -ibu\"\"\")"
      ],
      "metadata": {
        "colab": {
          "base_uri": "https://localhost:8080/"
        },
        "id": "GLfGgm0xZS06",
        "outputId": "568f3334-054b-4495-e236-9aea1e1d8c17"
      },
      "execution_count": null,
      "outputs": [
        {
          "output_type": "stream",
          "name": "stdout",
          "text": [
            " contoh puisi pendek:\n",
            "1. keluhan -mustofa.\n",
            "2. \"hari ibu\" -ibu\n"
          ]
        }
      ]
    },
    {
      "cell_type": "markdown",
      "source": [],
      "metadata": {
        "id": "4pZ2taTI_g2k"
      }
    },
    {
      "cell_type": "markdown",
      "source": [
        "Escape Character\n",
        "\n",
        "Escape sequence \\\\ digunakan untuk menegatifkan efek escape character sehingga hanya dianggap sebagai backslash biasa.\n",
        "\n",
        "Coba tulis dan jalankan dua code berikut, kemudian analisis output keduanya:"
      ],
      "metadata": {
        "id": "excNZbokFlml"
      }
    },
    {
      "cell_type": "code",
      "source": [
        "print(\"\\nfilosofi\\nilmu\\npadi\") #\\n untuk next paragraf\n",
        "print(\"kian\\tberisi\\tkian\\tmerunduk\\t\") #\\t ibaratkan tab\n",
        "print(\"\\non-tiket\") #\\ untuk sebaliknya\n",
        "print(\"\\\\tarik\\\\non-tunai\") #\\\\ untuk memunculkan \\\n",
        "print('ya\\tidak') #kan tidak sempurna"
      ],
      "metadata": {
        "colab": {
          "base_uri": "https://localhost:8080/"
        },
        "id": "LFN4nShWcoZZ",
        "outputId": "133ee852-a6f0-4f9c-d1c0-b7bfcf6d52f9"
      },
      "execution_count": null,
      "outputs": [
        {
          "output_type": "stream",
          "name": "stdout",
          "text": [
            "\n",
            "filosofi\n",
            "ilmu\n",
            "padi\n",
            "kian\tberisi\tkian\tmerunduk\t\n",
            "\n",
            "on-tiket\n",
            "\\tarik\\non-tunai\n",
            "ya\tidak\n"
          ]
        }
      ]
    },
    {
      "cell_type": "code",
      "source": [
        "print(\"\\nfilosofi \\\"ilmu padi\\\":\\nkian\\tberisi\\nkian\\tmerunduk\\n\")\n",
        "\n",
        "print(\"puisiku \\\"khusus untukmu\\\": \\npersis\\tlagunya taylor\\nkhusus untuk\\tmantanya\")"
      ],
      "metadata": {
        "colab": {
          "base_uri": "https://localhost:8080/"
        },
        "id": "SGSFZZ5Fe2Np",
        "outputId": "d2c892c7-235b-41c3-ea8c-1828f2acd0ec"
      },
      "execution_count": null,
      "outputs": [
        {
          "output_type": "stream",
          "name": "stdout",
          "text": [
            "\n",
            "filosofi \"ilmu padi\":\n",
            "kian\tberisi\n",
            "kian\tmerunduk\n",
            "\n",
            "puisiku \"khusus untukmu\": \n",
            "persis\tlagunya taylor\n",
            "khusus untuk\tmantanya\n"
          ]
        }
      ]
    },
    {
      "cell_type": "markdown",
      "source": [
        "Exercise (Latihan)\n",
        "Buatlah biodata, perkenalan diri, atau CV singkat menggunakan fitur markdown dan semua perintah Python yang telah dibahas hari ini!"
      ],
      "metadata": {
        "id": "Z1HWwkXDFzFz"
      }
    },
    {
      "cell_type": "code",
      "source": [
        "print(\"Mahasiswa Bisnis digital Universitas Mayasari Bakti\\nPengen bikin konten pake lagu \\\"YOYOK\\\"\")\n",
        "print(\"Nama\\t\\t: Nabila Fitriyani \\nJenis Kelamin\\t: Perempuan\")\n",
        "print(\"Hobi\\t\\t: Nonton\")\n",
        "print('Pendidikan\\t: D4 Bisnis Digital')\n",
        "print(\"\"\"Media Sosial:\n",
        "\\t\\t 1. Instagram: @nbilaft\n",
        "\\t\\t 2. Tiktok: nbilaftyni\"\"\")\n",
        "print(\"Kutipan Favorit:\\\"Bertuhanlah agar bertahan, bertahanlah dengan bertuhan\\\"\")\n",
        "print(\"\"\"Pengalaman :\n",
        "\\t\\t 1. Kerja sebagai Costumer Service\n",
        "\\t\\t 2. Finalis Nasional \"\"\")"
      ],
      "metadata": {
        "id": "Uep58BR2F3rT",
        "colab": {
          "base_uri": "https://localhost:8080/"
        },
        "outputId": "38dd8568-5961-479b-f024-28c3ae9da747"
      },
      "execution_count": null,
      "outputs": [
        {
          "output_type": "stream",
          "name": "stdout",
          "text": [
            "Mahasiswa Bisnis digital Universitas Mayasari Bakti\n",
            "Pengen bikin konten pake lagu \"YOYOK\"\n",
            "Nama\t\t: Nabila Fitriyani \n",
            "Jenis Kelamin\t: Perempuan\n",
            "Hobi\t\t: Nonton\n",
            "Pendidikan\t: D4 Bisnis Digital\n",
            "Media Sosial:\n",
            "\t\t 1. Instagram: @nbilaft\n",
            "\t\t 2. Tiktok: nbilaftyni\n",
            "Kutipan Favorit:\"Bertuhanlah agar bertahan, bertahanlah dengan bertuhan\"\n",
            "Pengalaman :\n",
            "\t\t 1. Kerja sebagai Costumer Service\n",
            "\t\t 2. Finalis Nasional \n"
          ]
        }
      ]
    },
    {
      "cell_type": "code",
      "source": [],
      "metadata": {
        "id": "NjqlkVfLM6Sv"
      },
      "execution_count": null,
      "outputs": []
    }
  ]
}